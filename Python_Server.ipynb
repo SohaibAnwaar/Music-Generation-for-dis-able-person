{
 "cells": [
  {
   "cell_type": "code",
   "execution_count": null,
   "id": "7fe1bd92",
   "metadata": {},
   "outputs": [],
   "source": [
    "import threading\n",
    "import socket\n",
    "import os\n",
    " \n",
    "from datetime import datetime\n",
    "\n",
    "from threading import Thread\n",
    "clients = set()\n",
    "clients_lock = threading.Lock()\n",
    "\n",
    "def listener(client, address):\n",
    "    global a\n",
    "    print (\"Accepted connection from: \", address)\n",
    "    with clients_lock:\n",
    "       clients.add(client)\n",
    "    try:\n",
    "        while True:\n",
    "            data = client.recv(1024)\n",
    "            if not data:\n",
    "                break\n",
    "            else :\n",
    "                b = datetime.now()\n",
    "                t=str(int((b-a).total_seconds() * 1000))\n",
    "                # print (repr(data))\n",
    "                # file1 = open(\"monitor.txt\", \"a+\")  # append mode\n",
    "                # file1.write(t+\",\"+repr(data)+\" \"+str(address[0])+\"\\n\")\n",
    "                # file1.close()\n",
    "                with clients_lock:\n",
    "                    for c in clients:\n",
    "                        c.sendall(data)\n",
    "    finally:\n",
    "        with clients_lock:\n",
    "            clients.remove(client)\n",
    "            client.close()\n",
    "\n",
    "\n",
    "# host = socket.gethostname()\n",
    "host = 'localhost'\n",
    "port = 1233       \n",
    "s = socket.socket()\n",
    "s.setsockopt(socket.SOL_SOCKET, socket.SO_REUSEADDR, 1)\n",
    "s.bind((host,port))\n",
    "s.listen(3)\n",
    "th = []\n",
    "\n",
    "while True:\n",
    "    print (\"Server is listening for connections...\")\n",
    "    client, address = s.accept()\n",
    "    a = datetime.now()\n",
    "    th.append(Thread(target=listener, args = (client,address)).start())\n",
    "    \n",
    "\n",
    "s.close()"
   ]
  }
 ],
 "metadata": {
  "kernelspec": {
   "display_name": "Python 3 (ipykernel)",
   "language": "python",
   "name": "python3"
  },
  "language_info": {
   "codemirror_mode": {
    "name": "ipython",
    "version": 3
   },
   "file_extension": ".py",
   "mimetype": "text/x-python",
   "name": "python",
   "nbconvert_exporter": "python",
   "pygments_lexer": "ipython3",
   "version": "3.8.8"
  }
 },
 "nbformat": 4,
 "nbformat_minor": 5
}
